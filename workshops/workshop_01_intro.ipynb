{
 "cells": [
  {
   "cell_type": "markdown",
   "metadata": {},
   "source": [
    "<center><h1 class=\"workshop-title\">Workshop 01 Introduction</h1></center>"
   ]
  },
  {
   "cell_type": "markdown",
   "metadata": {},
   "source": [
    "## <img align=left width=\"35px\" src=\"https://img.icons8.com/doodle/96/000000/checklist.png\"> Goals\n",
    "\n",
    "These workshops come to accompany the lectures and recitations by taking another dive into the subjects of this course but from a more \"hands-on\" approach. The purpose of the workshops is to achieve the following goals:\n",
    "\n",
    "- **The primary goal**: Improve the understanding and intuition behind the methods taught in the course by applying them to examples, and discussing the different nuances of each method.\n",
    "\n",
    "\n",
    "- **The secondary goal**: Provide tools for approaching and solving machine learning real problems in real life by using state of the art tools to problem sets which are based on real data."
   ]
  },
  {
   "cell_type": "markdown",
   "metadata": {},
   "source": [
    "## <img align=left width=\"35px\" src=\"https://img.icons8.com/plasticine/100/000000/numbered-list.png\"> Structure\n",
    "\n",
    "Apart from the first one, the workshops will have the following structure:\n",
    "- A background section in which we will introduce the new topics. In class, we will only go through the highlights of this section.\n",
    "- An implementation section in which we will apply our tools to a given problem. We will usually do it in an iterative way of trial and error. This section will be accompanied by the code for the solution of the problem. In class, we will not dive into the code but only give a general overview of what it does. \n",
    "- Some of the workshops will conclude with a theoretical section in which we will discuss and solve some more theoretical questions usually unrelated to the problem from the previous section.\n",
    "\n",
    "### Relation to Homework Assignment\n",
    "The hands-on part (\"wet\" part) of the homework assignment will be of the same form of implementation section of the workshops.\n",
    "\n",
    "### A comment about the code\n",
    "In many cases, the code or the algorithm in these workshops is not written in very efficient was since we have preferred to keep the code readable and to keep it as close as possible to the algorithm described in class. In almost all cases, there already exist packages implementing these algorithms, we have tried to give references to these implementations whenever they exist."
   ]
  },
  {
   "cell_type": "markdown",
   "metadata": {},
   "source": [
    "## <img align=left width=\"35px\" src=\"https://img.icons8.com/office/80/000000/right.png\"> This Workshop\n",
    "In this workshop, we will mainly be discussing the process which we will be using for solving the problem. The rest of the workshops will mainly discuss the different approaches and method which we can use when applying this process.  "
   ]
  },
  {
   "cell_type": "markdown",
   "metadata": {},
   "source": [
    "### <img align=left width=\"90px\" src=\"https://www.python.org/static/community_logos/python-logo-master-v3-TM.png\"> Why?\n",
    "\n",
    "Here are some motivational points for why we decided on teaching using Python, and why should you learn it?\n",
    "\n",
    "- It is currently one of the most popular programming languages. (It is the 3rd most popular language, after C and Java, [according to this survey](https://www.tiobe.com/tiobe-index/))\n",
    "- Almost every new frameworks in the field of machine learning are developed for python: PyTorch, TensorFlow, Keras, etc.\n",
    "- It is a very powerful programing language and yet very simple to learn and to get started with. ([See what XKCD has to say about it](https://xkcd.com/353/))\n",
    "- It's open-source (=> free) with a huge community behind it.\n",
    "- It has a ridiculously rich set of packages for almost any task. From basic mathematical tools([basic numeric](http://www.numpy.org/), [advance numerics](https://www.scipy.org/scipylib/index.html), [symbolic math](https://www.sympy.org) [data handling](https://pandas.pydata.org/), [visualizing](https://mode.com/blog/python-data-visualization-libraries), etc.), through a range of advanced frameworks for [deep learning](https://www.kdnuggets.com/2017/02/python-deep-learning-frameworks-overview.html), [distributed computing](https://wiki.python.org/moin/ParallelProcessing), [web servers](https://www.djangoproject.com/), etc. and up to stuff such as a complete framework for writing [simple games](https://www.pygame.org)"
   ]
  },
  {
   "cell_type": "markdown",
   "metadata": {},
   "source": [
    "## <img align=left width=\"35px\" src=\"https://img.icons8.com/doodle/48/000000/float.png\"> Jumping Into The Water  \n",
    "We will start by jumping directly into the water by applying a simple solution to one of the most popular competitions on Kaggle.\n",
    "\n",
    "At this point, we will do it in a very sloppy way, and the solution we will get will be very far from idle. The goal here is only to build the overall idea of the type of problems we will be trying to solve and the general process we are going to apply for solving them.\n",
    "\n",
    "We will later come back to this exact problem again and solve it using some more advanced tools while defining everything in a much more formal way."
   ]
  },
  {
   "cell_type": "markdown",
   "metadata": {},
   "source": [
    "## [<img align=left width=\"35px\" src=\"https://img.icons8.com/dusk/64/000000/cargo-ship.png\"> The Titanic Prediction Problem](https://www.kaggle.com/c/titanic)\n",
    "\n",
    "<center><img src=\"https://upload.wikimedia.org/wikipedia/commons/thumb/f/fd/RMS_Titanic_3.jpg/1200px-RMS_Titanic_3.jpg\" width=600px></center>\n",
    "\n",
    "In this problem, we would like to predict whether or not a given passenger has survived the Titanic tragedy based only the passengers' details in manifest which contains some cold facts such as age, sex, the ticket class, etc.\n",
    "\n",
    "To be able to come up with a good prediction method we are given a portion of the passenger manifest along with the data of whether or not these passengers have survived. The goal would be to be able to provide a good prediction for the survival chances for passengers outside this list.\n",
    "\n",
    "Here are some reasons to believe why we might be able to improve our guess based on these cold facts are:\n",
    "1. Mid-age people might be better swimmers then very young or old people, therefore their chances for survival might be higher.\n",
    "2. The different classes on board the Titanic were located in different areas of the boat, so maybe they were affected differently by the impact with the iceberg.\n",
    "3. It might be that most of the people on board the Titanic were in fact proper gentlemen and gave the women priority when boarding the lifeboats.\n",
    "4. etc.\n",
    "\n"
   ]
  },
  {
   "cell_type": "markdown",
   "metadata": {},
   "source": [
    "## <img align=left width=\"35px\" src=\"https://img.icons8.com/plasticine/100/000000/process.png\"> The workflow\n",
    "\n",
    "Throughout the workshops, we will try to build and follow a certain workflow which we will apply to the problems we come to solve. For now, we will only give a general description of the process, and as we advance we will gain a better understanding and obtain more tools for applying in each of the steps. We will start with the following diagram and make some small adaptations to it as we advance in the course:\n",
    "\n",
    "<center>\n",
    "<img src=\"../media/diagrams/workflow_intro.png\" style=\"width:300px\"/>\n",
    "</center>\n",
    "\n",
    "This course we will mostly focus on the two steps of suggesting a model and a learning method and applying them.\n",
    "\n",
    "Let us try to understand this workflow by applying it to the problem at hand. For now, we will only give a very general description of each step, in a future workshop, we will provide a more in-depth descriptions for each of the steps."
   ]
  },
  {
   "cell_type": "markdown",
   "metadata": {},
   "source": [
    "## Applying the Workflow\n",
    "\n",
    "We will start by importing some useful packages"
   ]
  },
  {
   "cell_type": "code",
   "execution_count": 1,
   "metadata": {
    "ExecuteTime": {
     "end_time": "2019-03-13T09:30:05.395437Z",
     "start_time": "2019-03-13T09:30:04.977076Z"
    }
   },
   "outputs": [],
   "source": [
    "## Importing packages\n",
    "import numpy as np  # Numerical package (mainly multi-dimensional arrays and linear algebra)\n",
    "import pandas as pd  # A package for working with data frames\n",
    "import matplotlib.pyplot as plt  # A plotting package\n",
    "\n",
    "## Setup matplotlib to output figures into the notebook\n",
    "## - To make the figures interactive (zoomable, tooltip, etc.) use \"\"%matplotlib notebook\" instead\n",
    "%matplotlib inline"
   ]
  },
  {
   "cell_type": "markdown",
   "metadata": {},
   "source": [
    "## <img align=left width=\"35px\" src=\"https://img.icons8.com/plasticine/100/000000/opened-folder.png\"> Data collection\n",
    "\n",
    "In our problem, we will only work with pre-collected datasets, and won't discuss this step at all. It is, however, vital to understand that this step is an integral part of the process and in many cases will be evolving over time to better fit the needs of the system."
   ]
  },
  {
   "cell_type": "markdown",
   "metadata": {},
   "source": [
    "## <img align=left width=\"35px\" src=\"https://img.icons8.com/color/96/000000/view-file.png\"> Data Inspection\n",
    "\n",
    "Let us take a look at the dataset. In many cases, such as this one, it is convenient to store the data as a table (or a matrix) where:\n",
    "- Each column represents one of the collected data fields. In our case: age, gender, ticket class, etc.\n",
    "- Each row represents a single observation. In our case a single passenger. Each observation is called a sample.\n",
    "\n",
    "We will start by loading the data and taking a look at it.\n",
    "\n",
    "- The data can be found at [https://technion046195.github.io/semester_2019_spring/datasets/titanic_manifest.csv](https://technion046195.github.io/semester_2019_spring/datasets/titanic_manifest.csv) "
   ]
  },
  {
   "cell_type": "code",
   "execution_count": 2,
   "metadata": {
    "ExecuteTime": {
     "end_time": "2019-03-13T09:30:06.009314Z",
     "start_time": "2019-03-13T09:30:05.397293Z"
    }
   },
   "outputs": [
    {
     "name": "stdout",
     "output_type": "stream",
     "text": [
      "Number of rows in the dataset: 1001\n"
     ]
    },
    {
     "data": {
      "text/html": [
       "<div>\n",
       "<style scoped>\n",
       "    .dataframe tbody tr th:only-of-type {\n",
       "        vertical-align: middle;\n",
       "    }\n",
       "\n",
       "    .dataframe tbody tr th {\n",
       "        vertical-align: top;\n",
       "    }\n",
       "\n",
       "    .dataframe thead th {\n",
       "        text-align: right;\n",
       "    }\n",
       "</style>\n",
       "<table border=\"1\" class=\"dataframe\">\n",
       "  <thead>\n",
       "    <tr style=\"text-align: right;\">\n",
       "      <th></th>\n",
       "      <th>pclass</th>\n",
       "      <th>survived</th>\n",
       "      <th>name</th>\n",
       "      <th>sex</th>\n",
       "      <th>age</th>\n",
       "      <th>sibsp</th>\n",
       "      <th>parch</th>\n",
       "      <th>ticket</th>\n",
       "      <th>fare</th>\n",
       "      <th>cabin</th>\n",
       "      <th>embarked</th>\n",
       "      <th>boat</th>\n",
       "      <th>body</th>\n",
       "      <th>home.dest</th>\n",
       "      <th>numeric_sex</th>\n",
       "    </tr>\n",
       "  </thead>\n",
       "  <tbody>\n",
       "    <tr>\n",
       "      <th>0</th>\n",
       "      <td>1</td>\n",
       "      <td>1</td>\n",
       "      <td>Allen, Miss. Elisabeth Walton</td>\n",
       "      <td>female</td>\n",
       "      <td>29</td>\n",
       "      <td>0</td>\n",
       "      <td>0</td>\n",
       "      <td>24160</td>\n",
       "      <td>211.3375</td>\n",
       "      <td>B5</td>\n",
       "      <td>S</td>\n",
       "      <td>2</td>\n",
       "      <td>NaN</td>\n",
       "      <td>St Louis, MO</td>\n",
       "      <td>1</td>\n",
       "    </tr>\n",
       "    <tr>\n",
       "      <th>1</th>\n",
       "      <td>1</td>\n",
       "      <td>0</td>\n",
       "      <td>Allison, Miss. Helen Loraine</td>\n",
       "      <td>female</td>\n",
       "      <td>2</td>\n",
       "      <td>1</td>\n",
       "      <td>2</td>\n",
       "      <td>113781</td>\n",
       "      <td>151.5500</td>\n",
       "      <td>C22 C26</td>\n",
       "      <td>S</td>\n",
       "      <td>NaN</td>\n",
       "      <td>NaN</td>\n",
       "      <td>Montreal, PQ / Chesterville, ON</td>\n",
       "      <td>1</td>\n",
       "    </tr>\n",
       "    <tr>\n",
       "      <th>2</th>\n",
       "      <td>1</td>\n",
       "      <td>0</td>\n",
       "      <td>Allison, Mr. Hudson Joshua Creighton</td>\n",
       "      <td>male</td>\n",
       "      <td>30</td>\n",
       "      <td>1</td>\n",
       "      <td>2</td>\n",
       "      <td>113781</td>\n",
       "      <td>151.5500</td>\n",
       "      <td>C22 C26</td>\n",
       "      <td>S</td>\n",
       "      <td>NaN</td>\n",
       "      <td>135.0</td>\n",
       "      <td>Montreal, PQ / Chesterville, ON</td>\n",
       "      <td>0</td>\n",
       "    </tr>\n",
       "    <tr>\n",
       "      <th>3</th>\n",
       "      <td>1</td>\n",
       "      <td>0</td>\n",
       "      <td>Allison, Mrs. Hudson J C (Bessie Waldo Daniels)</td>\n",
       "      <td>female</td>\n",
       "      <td>25</td>\n",
       "      <td>1</td>\n",
       "      <td>2</td>\n",
       "      <td>113781</td>\n",
       "      <td>151.5500</td>\n",
       "      <td>C22 C26</td>\n",
       "      <td>S</td>\n",
       "      <td>NaN</td>\n",
       "      <td>NaN</td>\n",
       "      <td>Montreal, PQ / Chesterville, ON</td>\n",
       "      <td>1</td>\n",
       "    </tr>\n",
       "    <tr>\n",
       "      <th>4</th>\n",
       "      <td>1</td>\n",
       "      <td>1</td>\n",
       "      <td>Anderson, Mr. Harry</td>\n",
       "      <td>male</td>\n",
       "      <td>48</td>\n",
       "      <td>0</td>\n",
       "      <td>0</td>\n",
       "      <td>19952</td>\n",
       "      <td>26.5500</td>\n",
       "      <td>E12</td>\n",
       "      <td>S</td>\n",
       "      <td>3</td>\n",
       "      <td>NaN</td>\n",
       "      <td>New York, NY</td>\n",
       "      <td>0</td>\n",
       "    </tr>\n",
       "    <tr>\n",
       "      <th>5</th>\n",
       "      <td>1</td>\n",
       "      <td>1</td>\n",
       "      <td>Andrews, Miss. Kornelia Theodosia</td>\n",
       "      <td>female</td>\n",
       "      <td>63</td>\n",
       "      <td>1</td>\n",
       "      <td>0</td>\n",
       "      <td>13502</td>\n",
       "      <td>77.9583</td>\n",
       "      <td>D7</td>\n",
       "      <td>S</td>\n",
       "      <td>10</td>\n",
       "      <td>NaN</td>\n",
       "      <td>Hudson, NY</td>\n",
       "      <td>1</td>\n",
       "    </tr>\n",
       "    <tr>\n",
       "      <th>6</th>\n",
       "      <td>1</td>\n",
       "      <td>0</td>\n",
       "      <td>Andrews, Mr. Thomas Jr</td>\n",
       "      <td>male</td>\n",
       "      <td>39</td>\n",
       "      <td>0</td>\n",
       "      <td>0</td>\n",
       "      <td>112050</td>\n",
       "      <td>0.0000</td>\n",
       "      <td>A36</td>\n",
       "      <td>S</td>\n",
       "      <td>NaN</td>\n",
       "      <td>NaN</td>\n",
       "      <td>Belfast, NI</td>\n",
       "      <td>0</td>\n",
       "    </tr>\n",
       "    <tr>\n",
       "      <th>7</th>\n",
       "      <td>1</td>\n",
       "      <td>1</td>\n",
       "      <td>Appleton, Mrs. Edward Dale (Charlotte Lamson)</td>\n",
       "      <td>female</td>\n",
       "      <td>53</td>\n",
       "      <td>2</td>\n",
       "      <td>0</td>\n",
       "      <td>11769</td>\n",
       "      <td>51.4792</td>\n",
       "      <td>C101</td>\n",
       "      <td>S</td>\n",
       "      <td>D</td>\n",
       "      <td>NaN</td>\n",
       "      <td>Bayside, Queens, NY</td>\n",
       "      <td>1</td>\n",
       "    </tr>\n",
       "    <tr>\n",
       "      <th>8</th>\n",
       "      <td>1</td>\n",
       "      <td>0</td>\n",
       "      <td>Artagaveytia, Mr. Ramon</td>\n",
       "      <td>male</td>\n",
       "      <td>71</td>\n",
       "      <td>0</td>\n",
       "      <td>0</td>\n",
       "      <td>PC 17609</td>\n",
       "      <td>49.5042</td>\n",
       "      <td>NaN</td>\n",
       "      <td>C</td>\n",
       "      <td>NaN</td>\n",
       "      <td>22.0</td>\n",
       "      <td>Montevideo, Uruguay</td>\n",
       "      <td>0</td>\n",
       "    </tr>\n",
       "    <tr>\n",
       "      <th>9</th>\n",
       "      <td>1</td>\n",
       "      <td>0</td>\n",
       "      <td>Astor, Col. John Jacob</td>\n",
       "      <td>male</td>\n",
       "      <td>47</td>\n",
       "      <td>1</td>\n",
       "      <td>0</td>\n",
       "      <td>PC 17757</td>\n",
       "      <td>227.5250</td>\n",
       "      <td>C62 C64</td>\n",
       "      <td>C</td>\n",
       "      <td>NaN</td>\n",
       "      <td>124.0</td>\n",
       "      <td>New York, NY</td>\n",
       "      <td>0</td>\n",
       "    </tr>\n",
       "  </tbody>\n",
       "</table>\n",
       "</div>"
      ],
      "text/plain": [
       "   pclass  survived                                             name     sex  \\\n",
       "0       1         1                    Allen, Miss. Elisabeth Walton  female   \n",
       "1       1         0                     Allison, Miss. Helen Loraine  female   \n",
       "2       1         0             Allison, Mr. Hudson Joshua Creighton    male   \n",
       "3       1         0  Allison, Mrs. Hudson J C (Bessie Waldo Daniels)  female   \n",
       "4       1         1                              Anderson, Mr. Harry    male   \n",
       "5       1         1                Andrews, Miss. Kornelia Theodosia  female   \n",
       "6       1         0                           Andrews, Mr. Thomas Jr    male   \n",
       "7       1         1    Appleton, Mrs. Edward Dale (Charlotte Lamson)  female   \n",
       "8       1         0                          Artagaveytia, Mr. Ramon    male   \n",
       "9       1         0                           Astor, Col. John Jacob    male   \n",
       "\n",
       "   age  sibsp  parch    ticket      fare    cabin embarked boat   body  \\\n",
       "0   29      0      0     24160  211.3375       B5        S    2    NaN   \n",
       "1    2      1      2    113781  151.5500  C22 C26        S  NaN    NaN   \n",
       "2   30      1      2    113781  151.5500  C22 C26        S  NaN  135.0   \n",
       "3   25      1      2    113781  151.5500  C22 C26        S  NaN    NaN   \n",
       "4   48      0      0     19952   26.5500      E12        S    3    NaN   \n",
       "5   63      1      0     13502   77.9583       D7        S   10    NaN   \n",
       "6   39      0      0    112050    0.0000      A36        S  NaN    NaN   \n",
       "7   53      2      0     11769   51.4792     C101        S    D    NaN   \n",
       "8   71      0      0  PC 17609   49.5042      NaN        C  NaN   22.0   \n",
       "9   47      1      0  PC 17757  227.5250  C62 C64        C  NaN  124.0   \n",
       "\n",
       "                         home.dest  numeric_sex  \n",
       "0                     St Louis, MO            1  \n",
       "1  Montreal, PQ / Chesterville, ON            1  \n",
       "2  Montreal, PQ / Chesterville, ON            0  \n",
       "3  Montreal, PQ / Chesterville, ON            1  \n",
       "4                     New York, NY            0  \n",
       "5                       Hudson, NY            1  \n",
       "6                      Belfast, NI            0  \n",
       "7              Bayside, Queens, NY            1  \n",
       "8              Montevideo, Uruguay            0  \n",
       "9                     New York, NY            0  "
      ]
     },
     "execution_count": 2,
     "metadata": {},
     "output_type": "execute_result"
    }
   ],
   "source": [
    "data_file = 'https://technion046195.github.io/semester_2019_spring/datasets/titanic_manifest.csv'\n",
    "\n",
    "## Loading the data\n",
    "dataset = pd.read_csv(data_file)\n",
    "\n",
    "## Print the number of rows in the data set\n",
    "number_of_rows = len(dataset)\n",
    "print('Number of rows in the dataset: {}'.format(number_of_rows))\n",
    "\n",
    "## Show the first 10 rows\n",
    "dataset.head(10)"
   ]
  },
  {
   "cell_type": "markdown",
   "metadata": {},
   "source": [
    "### The Data Types\n",
    "For simplicity, in this exercise will limit ourselves to using only these three fields:\n",
    "- *numerical_sex*: the sex of the passenger as a number: 0 - male, 1 - female (a boolean).\n",
    "- *pclass*: the ticket's class: 1st, 2nd or 3rd (a class indicator).\n",
    "- *survived*: Whether or not this passenger has survived (a boolean)\n",
    "\n",
    "(A full description for each of the other columns can be found on the [competition's website](https://www.kaggle.com/c/titanic/data))"
   ]
  },
  {
   "cell_type": "markdown",
   "metadata": {},
   "source": [
    "## <img align=left width=\"35px\" src=\"https://img.icons8.com/doodle/96/000000/multi-edit.png\"> Problem Definition"
   ]
  },
  {
   "cell_type": "markdown",
   "metadata": {},
   "source": [
    "### The Underlying Process\n",
    "\n",
    "In this step, we will define the process which generates the data, usually in a probabilistic manner. For now, we will describe the process as some back box which randomly spits out pairs passenger parameters and an indicator of whether this passenger has survived or not.\n",
    "\n",
    "This process of randomly generating passengers and survival outcome is, in fact, the random chain of events which lead certain passengers to board the Titanic and the event which eventually resulted in whether or not they have survived.\n",
    "\n",
    "<center><img src=\"../media/diagrams/titanic_process.png\"/></center>"
   ]
  },
  {
   "cell_type": "markdown",
   "metadata": {},
   "source": [
    "### The Task and the Goal\n",
    "\n",
    "As stated before, in this problem we would like to come up with a method, for guessing, or predicting whether or not a passenger on board the Titanic has survived the crash.\n",
    "\n",
    "i.e., we are looking for a function which maps from the input space of gender and class, $\\boldsymbol{x}$, into the binary space of the survival indicator, $\\boldsymbol{x}$:\n",
    "$$\n",
    "\\hat{y}=h\\left(\\boldsymbol{x}\\right)\n",
    "$$\n",
    "\n",
    "Where we have defined $\\hat{y}$ as our prediction for the input $\\boldsymbol{x}$.\n",
    "\n",
    "*We will later in this course define these type of problems as binary classification problems*."
   ]
  },
  {
   "cell_type": "markdown",
   "metadata": {},
   "source": [
    "It is important to note that the object which we are looking for is not the predictions themselves (a list of a number per passenger) but the function performing the prediction."
   ]
  },
  {
   "cell_type": "markdown",
   "metadata": {},
   "source": [
    "### Evaluation Method: The Misclassification Rate\n",
    "\n",
    "We still have not formally define what we mean by making a good prediction. In order to be able to pick the best prediction function, we must first define a way to evaluate different functions.\n",
    "\n",
    "We would usually want to be able to assign a numeric score of how **bad** a prediction function performs and then strive to pick the function with the lowest score. We would call this function the risk function. \n",
    "\n",
    "In this case, we will use a risk function called *the misclassification rate*. The misclassification rate is defined as the prediction errors a function makes on the data. Denoting:\n",
    "- $N$ - as the number of sample in the data.\n",
    "- $\\boldsymbol{x}_i$ - the person parameters in the $i$'s sample, i.e., the vector of $\\left(\\text{gender},\\text{class}\\right)$ of the $i$'s passenger.\n",
    "\n",
    "The risk would be:\n",
    "\n",
    "$$\n",
    "R\\left\\{h, \\left\\{\\boldsymbol{x},y\\right\\}\\right\\}=\\frac{1}{N}\\sum_i I\\left\\{h\\left(\\boldsymbol{x}_i\\right)\\neq y_i\\right\\}\n",
    "$$\n",
    "\n",
    "**A comment about naming**: In many places, this function appears under different names. Other common names for this function are the cost function, the error function or the loss function. \n",
    "\n",
    "Although the name loss function is very commonly used, especially in deep learning, in our course, we will stick to the name risk and have a different definition for the term of a loss function."
   ]
  },
  {
   "cell_type": "markdown",
   "metadata": {},
   "source": [
    "### Splitting the dataset\n",
    "\n",
    "We will be using our dataset in two different tasks:\n",
    "- Producing the prediction function.\n",
    "- Evaluating the performance.\n",
    "\n",
    "This is a bit problematic, since in general, this will result in an optimistic result. The fact that our solution performs well on the given data does not necessarily mean that it will perform well on any new data. \n",
    "\n",
    "#### A Simple Example\n",
    "\n",
    "Let us suppose that the names of the passengers are part of the input data. In this case, we could propose a prediction method which memorizes the list of surviving passengers and makes a prediction based on that list. This method will perform great on the given data, but it would fail for any new data.\n",
    "\n",
    "A simple solution is to leave a portion of the dataset for the use of evaluation only. These two portions of the dataset are usually referred to as the **train set** and the **test set**.\n",
    "\n",
    "A common practice is to use an 80% train-20% test split. In most cases, it will be important to split the data randomly independent in the order of the sample in the original dataset.  "
   ]
  },
  {
   "cell_type": "markdown",
   "metadata": {},
   "source": [
    "Let us prepare our dataset and split it to the train set and test set."
   ]
  },
  {
   "cell_type": "code",
   "execution_count": 3,
   "metadata": {
    "ExecuteTime": {
     "end_time": "2019-03-13T09:30:06.014370Z",
     "start_time": "2019-03-13T09:30:06.011088Z"
    }
   },
   "outputs": [],
   "source": [
    "## Preparing the data set\n",
    "## Constructing x_{i,j} and y_i. Here i runs over the passengers and j runs over [gender, class]\n",
    "x = dataset[['numeric_sex', 'pclass']]\n",
    "y = dataset['survived']"
   ]
  },
  {
   "cell_type": "code",
   "execution_count": 4,
   "metadata": {
    "ExecuteTime": {
     "end_time": "2019-03-13T09:30:06.053102Z",
     "start_time": "2019-03-13T09:30:06.016718Z"
    }
   },
   "outputs": [],
   "source": [
    "n_samples = len(x)\n",
    "\n",
    "## Generate a random generator with a fixed seed (this is important to make our result reproducible)\n",
    "rand_gen = np.random.RandomState(0)\n",
    "\n",
    "## Generating a vector of indices\n",
    "indices = np.arange(n_samples)\n",
    "\n",
    "## Shuffle the indices\n",
    "rand_gen.shuffle(indices)\n",
    "\n",
    "## Split the indices into 80% train / 20% test\n",
    "n_samples_train = int(n_samples * 0.8)\n",
    "n_samples_test = n_samples - n_samples_train\n",
    "train_indices = indices[:n_samples_train]\n",
    "test_indices = indices[n_samples_train:]\n",
    "\n",
    "## Split the data\n",
    "x_train = x.iloc[train_indices]\n",
    "x_test = x.iloc[test_indices]\n",
    "y_train = y.iloc[train_indices]\n",
    "y_test = y.iloc[test_indices]\n",
    "\n",
    "## We could have directly shuffled and split the data, but in this way, we are still left with the original data and the indices which were used for the split which could be useful, especially for debugging. "
   ]
  },
  {
   "cell_type": "markdown",
   "metadata": {},
   "source": [
    "## <img align=left width=\"35px\" src=\"https://img.icons8.com/color/96/000000/idea-sharing.png\"> Model & Learning method suggestion\n",
    "\n",
    "In this step, we would like to suggest a family of optional models which we can use for our problem. We would then have to search the space of suggested models to select the best model according to our evaluation method. I.e., we would search for the model which produces in the minimal risk. We should note here that in many cases, finding the model with the lowest risk is not possible and we would settle for the model with the lowest risk we can find.\n",
    "\n",
    "These family models will usually, but not always, be defined by a set of parameters. In such cases, we will use $\\theta$ to denote these parameters.\n",
    "\n",
    "There are many consideration which come into account for selecting this family of models. We will point out three of them:\n",
    "1. It should be a set of models for which we have an efficient method for finding the model with the lowest risk.\n",
    "2. It should be a set of models which cover an extensive range of solutions in order to increase our chance of coming up with a solution which produces a low risk.\n",
    "3. As we will see, in many cases if the range of solution is too wide we will usually encounter a problem called overfitting. We will not go in to this subject in this workshop."
   ]
  },
  {
   "cell_type": "markdown",
   "metadata": {},
   "source": [
    "In our example we will suggest a model for the prediction function $h\\left(\\boldsymbol{x}\\right)$. In fact in this simple example, since  $h\\left(\\boldsymbol{x}\\right)$ has only 6 possible inputs (2 gender x 3 classes), we can use 6 binary parameters to define the whole set of possible functions $h\\left(\\boldsymbol{x}\\right)$.\n",
    "\n",
    "$$\n",
    "h_\\boldsymbol{\\theta}\\left(\\boldsymbol{x}\\right)=\\left\\{\n",
    "\\begin{array}{ll}\n",
    "      \\theta_{0, 1} & \\boldsymbol{x}=\\left(0, 1\\right) \\\\\n",
    "      \\theta_{0, 2} & \\boldsymbol{x}=\\left(0, 2\\right) \\\\\n",
    "      \\theta_{0, 3} & \\boldsymbol{x}=\\left(0, 3\\right) \\\\\n",
    "      \\theta_{1, 1} & \\boldsymbol{x}=\\left(1, 1\\right) \\\\\n",
    "      \\theta_{1, 2} & \\boldsymbol{x}=\\left(1, 2\\right) \\\\\n",
    "      \\theta_{1, 3} & \\boldsymbol{x}=\\left(1, 3\\right) \\\\\n",
    "\\end{array} \n",
    "\\right.\n",
    "$$\n",
    "\n",
    "**reminder**: $\\boldsymbol{x}=\\left(\\text{gender}, \\text{class}\\right)$"
   ]
  },
  {
   "cell_type": "markdown",
   "metadata": {},
   "source": [
    "As a more visually appealing way, we can also write it in the form of a table: \n",
    "\n",
    "| Sex \\ Class |  1st class      | 2nd Class      | 3rd class      |\n",
    "| ----------- | --------------- | -------------- | -------------- |\n",
    "| Male (0)    |  $\\theta_{0,1}$ | $\\theta_{0,2}$ | $\\theta_{0,3}$ |\n",
    "| Female (1)  |  $\\theta_{1,1}$ | $\\theta_{1,2}$ | $\\theta_{1,3}$ |\n"
   ]
  },
  {
   "cell_type": "markdown",
   "metadata": {},
   "source": [
    "Only for demonstrating the process, we will start with an even more simplified model for $h_\\boldsymbol{\\theta}\\left(\\boldsymbol{x}\\right)$. We will start with the family of constant functions, i.e., $h_\\theta\\left(\\boldsymbol{x}\\right)=\\theta$\n",
    "\n",
    "\n",
    "| Sex \\ Class |  1st class  | 2nd Class  | 3rd class  |\n",
    "| ----------- | ----------- | ---------- | ---------- |\n",
    "| Male (0)    |  $\\theta$   | $\\theta$   | $\\theta$   |\n",
    "| Female (1)  |  $\\theta$   | $\\theta$   | $\\theta$   |\n",
    "\n",
    "Our method for finding the constant function, or equivalently the $\\theta$, which produces the lowest risk would be to test all possible options. Since we are talking about a binary prediction function, there are only 2 options: $h_{\\theta=0}\\left(\\boldsymbol{x}\\right)=0$ and  $h_{\\theta=1}\\left(\\boldsymbol{x}\\right)=1$, "
   ]
  },
  {
   "cell_type": "markdown",
   "metadata": {},
   "source": [
    "## <img align=left width=\"35px\" src=\"https://img.icons8.com/plasticine/100/000000/services.png\"> Learning\n",
    "\n",
    "Here we will usually apply some fancy method for selecting the best method, in this case, we simply need to evaluate the risk for the two options of $\\theta=0$ and $\\theta=1$ and one which produces the lower result.\n",
    "\n",
    "Formally we would like to find the optimal value of $\\theta$, which we will denote as $\\theta^*$, for which:\n",
    "\n",
    "$$\n",
    "\\theta^*\n",
    "=\\underset{\\theta}{\\arg\\min}\\  R\\left\\{h_{\\theta}, \\left\\{\\boldsymbol{x} ,y\\right\\}\\right\\}\n",
    "=\\underset{\\theta}{\\arg\\min}\\  \\frac{1}{N}\\sum_i I\\left\\{\\theta\\neq y_i\\right\\}\n",
    "$$\n",
    "\n",
    "Let us calculate the risk for each $\\theta$ (note that we will only be using the train set for this task) :"
   ]
  },
  {
   "cell_type": "code",
   "execution_count": 5,
   "metadata": {
    "ExecuteTime": {
     "end_time": "2019-03-13T09:30:06.064209Z",
     "start_time": "2019-03-13T09:30:06.055689Z"
    }
   },
   "outputs": [
    {
     "name": "stdout",
     "output_type": "stream",
     "text": [
      "The train risk for a predictor with theta=0 is: 0.42\n",
      "The train risk for a predictor with theta=1 is: 0.58\n"
     ]
    }
   ],
   "source": [
    "## The number of worng prediction for theta:\n",
    "for theta in [0, 1]:\n",
    "    predictions = theta\n",
    "    train_risk = (y_train.values != predictions).mean()\n",
    "    print('The train risk for a predictor with theta={} is: {:.02}'.format(theta, train_risk))"
   ]
  },
  {
   "cell_type": "markdown",
   "metadata": {},
   "source": [
    "In this case, constantly predicting zero performs slightly better than constantly predicting one.\n",
    "\n",
    "This is due to the fact that the majority of passengers did not survive the crash, therefore without knowing any details about the passenger we have a better change predicting that he did not survive.\n",
    "\n",
    "Our proposed prediction function would be:\n",
    "$$\n",
    "h\\left(\\boldsymbol{x}\\right)=0\\quad\\forall\\boldsymbol{x}\n",
    "$$"
   ]
  },
  {
   "cell_type": "markdown",
   "metadata": {},
   "source": [
    "## <img align=left width=\"35px\" src=\"https://img.icons8.com/color/96/000000/speedometer.png\"> Performance evaluation\n",
    "\n",
    "As stated before would like to do the evaluating of the risk on the test set. Let us calculate the risk using the test set."
   ]
  },
  {
   "cell_type": "code",
   "execution_count": 6,
   "metadata": {
    "ExecuteTime": {
     "end_time": "2019-03-13T09:30:06.076931Z",
     "start_time": "2019-03-13T09:30:06.065974Z"
    }
   },
   "outputs": [
    {
     "name": "stdout",
     "output_type": "stream",
     "text": [
      "The test risk for a predictor with theta=0 is: 0.4\n"
     ]
    }
   ],
   "source": [
    "predictions = 0\n",
    "test_risk = (y_test.values != predictions).mean()\n",
    "print('The test risk for a predictor with theta=0 is: {:.02}'.format(test_risk))"
   ]
  },
  {
   "cell_type": "markdown",
   "metadata": {},
   "source": [
    "We would now want to suggest a way to improve our learning method.\n",
    "\n",
    "In this case, the obvious way to get improvement is by replacing the naive model which we have used. Let us go back to the model suggestion stage.  "
   ]
  },
  {
   "cell_type": "markdown",
   "metadata": {},
   "source": [
    "## <img align=left width=\"35px\" src=\"https://img.icons8.com/color/96/000000/idea-sharing.png\"> Model & Learning method suggestion - 2nd Attempt\n",
    "\n",
    "Let us now return to the full model for $h_\\boldsymbol{\\theta}\\left(\\boldsymbol{x}\\right)$ which covers all the possible all possible $2^6$ combinations for selecting $\\theta_{0,1},..,\\theta_{1,3}$.\n",
    "\n",
    "It could be shown that in this case, we can find the optimal selection of $\\theta_{i,k}$'s by selecting each one of them individually, minimize the risk on the group of passengers with $X=\\left(i,j\\right)$. I.e.\n",
    "\n",
    "$$\n",
    "\\theta_{i,j}^*=\\underset{\\theta_{i,j}}{\\arg\\min}\\ \\frac{1}{N}\\sum_{i,\\boldsymbol{x}=\\left(i,j\\right)} I\\left\\{\\theta_{i,j}\\neq y_i\\right\\}\n",
    "$$\n",
    "\n"
   ]
  },
  {
   "cell_type": "code",
   "execution_count": 7,
   "metadata": {
    "ExecuteTime": {
     "end_time": "2019-03-13T09:30:06.090643Z",
     "start_time": "2019-03-13T09:30:06.079039Z"
    }
   },
   "outputs": [
    {
     "name": "stdout",
     "output_type": "stream",
     "text": [
      "For the group of gender=0 and class=1:\n",
      "  The train risk on the group for a predictor with theta(i,j)=0 is: 0.39\n",
      "  The train risk on the group for a predictor with theta(i,j)=1 is: 0.61\n",
      "\n",
      "For the group of gender=0 and class=2:\n",
      "  The train risk on the group for a predictor with theta(i,j)=0 is: 0.12\n",
      "  The train risk on the group for a predictor with theta(i,j)=1 is: 0.88\n",
      "\n",
      "For the group of gender=0 and class=3:\n",
      "  The train risk on the group for a predictor with theta(i,j)=0 is: 0.17\n",
      "  The train risk on the group for a predictor with theta(i,j)=1 is: 0.83\n",
      "\n",
      "For the group of gender=1 and class=1:\n",
      "  The train risk on the group for a predictor with theta(i,j)=0 is: 0.97\n",
      "  The train risk on the group for a predictor with theta(i,j)=1 is: 0.028\n",
      "\n",
      "For the group of gender=1 and class=2:\n",
      "  The train risk on the group for a predictor with theta(i,j)=0 is: 0.9\n",
      "  The train risk on the group for a predictor with theta(i,j)=1 is: 0.1\n",
      "\n",
      "For the group of gender=1 and class=3:\n",
      "  The train risk on the group for a predictor with theta(i,j)=0 is: 0.47\n",
      "  The train risk on the group for a predictor with theta(i,j)=1 is: 0.53\n",
      "\n"
     ]
    }
   ],
   "source": [
    "for gender in [0, 1]:\n",
    "    for class_ in [1, 2, 3]:  # we have used \"class_\" since the word \"class\" is already in use by python\n",
    "        print('For the group of gender={} and class={}:'.format(gender, class_))\n",
    "        for theta in [0, 1]:\n",
    "            predictions = theta\n",
    "            indices = (x_train['numeric_sex'].values == gender) & (x_train['pclass'].values == class_)\n",
    "            train_risk = (y_train.values[indices] != predictions).mean()\n",
    "            print('  The train risk on the group for a predictor with theta(i,j)={} is: {:.02}'.format(theta, train_risk))\n",
    "        print('')"
   ]
  },
  {
   "cell_type": "markdown",
   "metadata": {},
   "source": [
    "Therefore our optimal predictor would be:\n",
    "\n",
    "| Sex \\ Class |  1st class  | 2nd Class  | 3rd class  |\n",
    "| ----------- | ----------- | ---------- | ---------- |\n",
    "| Male (0)    | 0           | 0          | 0          |\n",
    "| Female (1)  | 1           | 1          | 0          |"
   ]
  },
  {
   "cell_type": "markdown",
   "metadata": {},
   "source": [
    "## <img align=left width=\"35px\" src=\"https://img.icons8.com/color/96/000000/speedometer.png\"> Performance evaluation\n",
    "\n",
    "Let us calculate the risk for this prediction function"
   ]
  },
  {
   "cell_type": "code",
   "execution_count": 8,
   "metadata": {
    "ExecuteTime": {
     "end_time": "2019-03-13T09:30:06.107980Z",
     "start_time": "2019-03-13T09:30:06.092074Z"
    }
   },
   "outputs": [
    {
     "name": "stdout",
     "output_type": "stream",
     "text": [
      "The test risk for the optimal predictor is: 0.23\n"
     ]
    }
   ],
   "source": [
    "## define the optimal predictor\n",
    "def row_predictor(row):\n",
    "    gender = row['numeric_sex']\n",
    "    class_ = row['pclass']\n",
    "    \n",
    "    prediction_map = {\n",
    "        (0, 1): 0,\n",
    "        (0, 2): 0,\n",
    "        (0, 3): 0,\n",
    "        (1, 1): 1,\n",
    "        (1, 2): 1,\n",
    "        (1, 3): 0,\n",
    "    }\n",
    "    \n",
    "    prediction = prediction_map[(gender, class_)]\n",
    "    return prediction\n",
    "\n",
    "predictions = x_test.apply(row_predictor, axis='columns')\n",
    "\n",
    "test_risk = (y_test.values != predictions).mean()\n",
    "print('The test risk for the optimal predictor is: {:.02}'.format(test_risk))"
   ]
  },
  {
   "cell_type": "markdown",
   "metadata": {},
   "source": [
    "This mean that by using this predictor we have will be able to give a correct prediction about 77% of the time."
   ]
  },
  {
   "cell_type": "markdown",
   "metadata": {},
   "source": [
    "## <img align=left width=\"35px\" src=\"https://img.icons8.com/cotton/64/000000/filter.png\"> Conclusion\n",
    "\n",
    "We have seen how we can use a dataset to build a model which we can now be used to make predictions on data we have not seen yet. We did so following a general workflow which we have described.\n",
    "\n",
    "In almost all of the problems which we will solve in these workshops, we will follow this workflow. The parts which will change from one problem/solution to another is:\n",
    "\n",
    "- The problem, goal and evaluation method.\n",
    "- The part of the system which we will be modeling.\n",
    "- The set of models we will be using in the model suggestion step.\n",
    "- The learning method which we will be using for selecting a good model from within the set of models.\n",
    "- Some additional variations of the learning method, which deal with a problem called overfitting."
   ]
  },
  {
   "cell_type": "markdown",
   "metadata": {},
   "source": [
    "## <img align=left width=\"35px\" src=\"https://upload.wikimedia.org/wikipedia/commons/3/3c/Cc-by_new.svg\">  Attributions\n",
    "Icons in these notebooks were made by:\n",
    "- <https://icons8.com> is licensed by  [CC 3.0 BY-ND](http://creativecommons.org/licenses/by-nd/3.0/)\n",
    "- [Freepik](https://www.freepik.com) from <https://www.flaticon.com> is licensed by [CC 3.0 BY](http://creativecommons.org/licenses/by/3.0/)"
   ]
  },
  {
   "cell_type": "code",
   "execution_count": 9,
   "metadata": {
    "ExecuteTime": {
     "end_time": "2019-03-13T09:30:06.118186Z",
     "start_time": "2019-03-13T09:30:06.109230Z"
    }
   },
   "outputs": [
    {
     "data": {
      "text/html": [
       "<link rel=\"stylesheet\" href=\"auxil/style.css\"> <!--Setting styles - You can simply ignore this line-->\n"
      ],
      "text/plain": [
       "<IPython.core.display.HTML object>"
      ]
     },
     "metadata": {},
     "output_type": "display_data"
    }
   ],
   "source": [
    "%%html\n",
    "<link rel=\"stylesheet\" href=\"auxil/style.css\"> <!--Setting styles - You can simply ignore this line-->"
   ]
  }
 ],
 "metadata": {
  "kernelspec": {
   "display_name": "Python 3",
   "language": "python",
   "name": "python3"
  },
  "language_info": {
   "codemirror_mode": {
    "name": "ipython",
    "version": 3
   },
   "file_extension": ".py",
   "mimetype": "text/x-python",
   "name": "python",
   "nbconvert_exporter": "python",
   "pygments_lexer": "ipython3",
   "version": "3.5.2"
  },
  "varInspector": {
   "cols": {
    "lenName": 16,
    "lenType": 16,
    "lenVar": 40
   },
   "kernels_config": {
    "python": {
     "delete_cmd_postfix": "",
     "delete_cmd_prefix": "del ",
     "library": "var_list.py",
     "varRefreshCmd": "print(var_dic_list())"
    },
    "r": {
     "delete_cmd_postfix": ") ",
     "delete_cmd_prefix": "rm(",
     "library": "var_list.r",
     "varRefreshCmd": "cat(var_dic_list()) "
    }
   },
   "types_to_exclude": [
    "module",
    "function",
    "builtin_function_or_method",
    "instance",
    "_Feature"
   ],
   "window_display": false
  }
 },
 "nbformat": 4,
 "nbformat_minor": 1
}
