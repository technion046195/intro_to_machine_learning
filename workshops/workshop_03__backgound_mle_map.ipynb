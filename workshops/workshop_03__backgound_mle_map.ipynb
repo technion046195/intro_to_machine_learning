{
 "cells": [
  {
   "cell_type": "markdown",
   "metadata": {},
   "source": [
    "<center><h1 class=\"background-title\">Workshop 3 - Background<br>MLE & MAP</h1></center>"
   ]
  },
  {
   "cell_type": "markdown",
   "metadata": {},
   "source": [
    "# Parametric Estimation\n",
    "\n",
    "In contrast to evaluating the distribution of a random variable in a non-parametric way, a much more popular approach is to assume some known form of the distribution, up to some unknown parameters. For example, a commonly used assumption is that a random variable has a normal distribution with some unknown mean value and standard deviation. We will refer to the form of the distribution, which is assumed to be known, as the model, and our task will be to estimate the values of the unknown model's parameters.\n",
    "\n",
    "We would usually denote the vector of model parameters as $\\boldsymbol{\\theta}$.\n",
    "\n",
    "There are two main approaches for doing parametric estimation. We will describe them both."
   ]
  },
  {
   "cell_type": "markdown",
   "metadata": {},
   "source": [
    "# Bayesian Inference\n",
    "\n",
    "Under this approach, we assume that the unknown model parameters $\\boldsymbol{\\tilde{\\theta}}$ are random variables which have been drawn from some known distribution $p_\\boldsymbol{\\tilde{\\theta}}$, called the **prior distribution** (or the **a priori distribution**).\n",
    "\n",
    "Under the Bayesian approach, our model for the distribution of the data $\\boldsymbol{x}$, given the parameters, is described through the conditional probability $p_{\\boldsymbol{X}|\\boldsymbol{\\tilde{\\theta}}}$\n",
    "\n",
    "Based on the data, we would update our belief of the distribution of the parameters using Bayes' rule:\n",
    "\n",
    "$$\n",
    "p_{\\boldsymbol{\\tilde{\\theta}}|\\boldsymbol{X}}\\left(\\boldsymbol{\\theta}|\\boldsymbol{x}\\right)=\\frac{\n",
    "p_{\\boldsymbol{X}|\\boldsymbol{\\tilde{\\theta}}}\\left(\\boldsymbol{x}|\\boldsymbol{\\theta}\\right)\n",
    "p_{\\boldsymbol{\\tilde{\\theta}}}\\left(\\boldsymbol{\\theta}\\right)}{\n",
    "p_{\\boldsymbol{X}}\\left(\\boldsymbol{x}\\right)\n",
    "}\n",
    "$$\n",
    "\n",
    "(Here $\\boldsymbol{\\tilde{\\theta}}$ is a vector of random variables and $\\boldsymbol{\\theta}$ is a realization of it)\n",
    "\n",
    "The conditional probability $p_{\\boldsymbol{\\tilde{\\theta}}|\\boldsymbol{X}}$ is called the **posterior distribution** (or the **a posteriori distribution**)."
   ]
  },
  {
   "cell_type": "markdown",
   "metadata": {},
   "source": [
    "Let us give an interpretation to each of the terms:\n",
    "\n",
    "- $p_{\\boldsymbol{X}|\\boldsymbol{\\tilde{\\theta}}}\\left(\\boldsymbol{x}|\\boldsymbol{\\theta}\\right)$ - The likelihood: How good a given $\\boldsymbol{\\theta}$ explains the measured data.\n",
    "- $p_{\\boldsymbol{\\tilde{\\theta}}}\\left(\\boldsymbol{\\theta}\\right)$ - The prior distribution: How probable is it for the random variable $\\boldsymbol{\\tilde{\\theta}}$ to be equal to a specific set of values $\\boldsymbol{\\theta}$.\n",
    "- $p_{\\boldsymbol{X}}\\left(\\boldsymbol{x}\\right)$ - The model evidence: How probable is it for the random variable $\\boldsymbol{X}$ to be equal to the actual measured data $\\boldsymbol{x}$. This is based on the complete model, unrelated related to any specific value of $\\boldsymbol{\\theta}$. This term is simply the normalization factor which is necessary for making the posterior distribution a valid probability"
   ]
  },
  {
   "cell_type": "markdown",
   "metadata": {},
   "source": [
    "There are a few methods for selecting the optimal model parameters $\\boldsymbol{\\theta}^*$ based upon the posterior distribution. We will describe one of them"
   ]
  },
  {
   "cell_type": "markdown",
   "metadata": {},
   "source": [
    "## Maximum A Posteriori Estimation (MAP)\n",
    "\n",
    "In MAP estimation we will select the optimal model parameters $\\boldsymbol{\\theta}^*$ as the parameters which maximize the posterior distribution:\n",
    "\n",
    "$$\n",
    "\\boldsymbol{\\theta}^*=\\underset{\\boldsymbol{\\theta}}{\\arg\\max}\\ p_{\\boldsymbol{\\Theta}|\\boldsymbol{X}}\\left(\\boldsymbol{\\theta}|\\boldsymbol{x}\\right)=\\underset{\\boldsymbol{\\theta}}{\\arg\\max}\\ \\frac{\n",
    "p_{\\boldsymbol{X}|\\boldsymbol{\\Theta}}\\left(\\boldsymbol{x}|\\boldsymbol{\\theta}\\right)\n",
    "p_{\\boldsymbol{\\Theta}}\\left(\\boldsymbol{\\theta}\\right)}{\n",
    "p_{\\boldsymbol{X}}\\left(\\boldsymbol{x}\\right)}\n",
    "$$\n",
    "\n",
    "We will note that the term $p_{\\boldsymbol{X}}\\left(\\boldsymbol{x}\\right)$ has no effect on the result of $\\underset{\\boldsymbol{\\theta}}{\\arg\\max}$, therefore:\n",
    "\n",
    "$$\n",
    "\\boldsymbol{\\theta}^*=\\underset{\\boldsymbol{\\theta}}{\\arg\\max}\\ p_{\\boldsymbol{X}|\\boldsymbol{\\Theta}}\\left(\\boldsymbol{x}|\\boldsymbol{\\theta}\\right)\n",
    "p_{\\boldsymbol{\\Theta}}\\left(\\boldsymbol{\\theta}\\right)\n",
    "$$\n",
    "\n",
    "An intuitive interpretation is that we would like to select the optimal $\\boldsymbol{\\theta}$ which can both explain the measured data (high likelihood) and has a high prior probability.\n",
    "\n",
    "In practice we would usually solve:\n",
    "$$\n",
    "\\begin{align*}\n",
    "\\boldsymbol{\\theta}^*\n",
    "& =\\underset{\\boldsymbol{\\theta}}{\\arg\\max}\\ p_{\\boldsymbol{X}|\\boldsymbol{\\Theta}}\\left(\\boldsymbol{x}|\\boldsymbol{\\theta}\\right)\n",
    "p_{\\boldsymbol{\\Theta}}\\left(\\boldsymbol{\\theta}\\right) \\\\\n",
    "& =\\underset{\\boldsymbol{\\theta}}{\\arg\\min}\\ -\\log\\left(p_{\\boldsymbol{X}|\\boldsymbol{\\Theta}}\\left(\\boldsymbol{x}|\\boldsymbol{\\theta}\\right)\\right)\n",
    "-\\log\\left(p_{\\boldsymbol{\\Theta}}\\left(\\boldsymbol{\\theta}\\right)\\right)\n",
    "\\end{align*}\n",
    "$$\n",
    "\n",
    "Here, the second equality is due to the monotonically increasing nature of the $\\log$ function and results in an expression which is usually simpler to use."
   ]
  },
  {
   "cell_type": "markdown",
   "metadata": {},
   "source": [
    "# Frequentist Inference\n",
    "\n",
    "Under this approach, we assume that the unknown model parameters are some constant unknown parameters without any distribution related to them. Under the frequentist approach, our model for the distribution of the data based on the parameters is described as a parametric probability function $p_{\\boldsymbol{X}}\\left(\\boldsymbol{x}\\ ;\\boldsymbol{\\theta}\\right)$\n",
    "\n",
    "**A comment**: Since in this case $\\boldsymbol{\\theta}$ is no longer a random variable, we have used here  $p\\left(\\cdot;\\cdot\\right)$ to emphasize that $\\boldsymbol{\\theta}$ is a prameter of $p$. In the Bayesian case we have used $p\\left(\\cdot|\\cdot\\right)$ to donate the conditional probability. This distinction is not always made and in the lectures for example we will be using $p\\left(\\cdot|\\cdot\\right)$ for both cases.\n",
    "\n",
    "Based on the data $\\boldsymbol{x}$, the likelihood function is defined as $\\mathcal{L}\\left(\\boldsymbol{\\theta};\\boldsymbol{x}\\right)=p_{\\boldsymbol{X}}\\left(\\boldsymbol{x}\\ ;\\boldsymbol{\\theta}\\right)$.\n",
    "\n",
    "This is merely a change of notation to distinguish the change of roles between $\\boldsymbol{x}$ and $\\boldsymbol{\\theta}$. While the probability function is a function of $\\boldsymbol{x}$, and we assume that $\\boldsymbol{\\theta}$ is known, the likelihood function is a function of $\\boldsymbol{\\theta}$, and we assume that $\\boldsymbol{x}$ is known.\n",
    "\n",
    "For simplicity we would also define the log-likelihood function: $l\\left(\\boldsymbol{\\theta};\\boldsymbol{x}\\right)=\\log\\left(\\mathcal{L}\\left(\\boldsymbol{\\theta};\\boldsymbol{x}\\right)\\right)$"
   ]
  },
  {
   "cell_type": "markdown",
   "metadata": {},
   "source": [
    "Here as well, there are a few methods for selecting the optimal model parameters $\\boldsymbol{\\theta}^*$ based upon the data, we will describe one of them."
   ]
  },
  {
   "cell_type": "markdown",
   "metadata": {},
   "source": [
    "## Maximum Likelihood Estimation (MLE)\n",
    "\n",
    "In MLE we select the optimal model parameters $\\boldsymbol{\\theta}^*$ as the parameters which maximizes the likelihood function:\n",
    "\n",
    "$$\n",
    "\\begin{align*}\n",
    "\\boldsymbol{\\theta}^*\n",
    "& = \\underset{\\boldsymbol{\\theta}}{\\arg\\max}\\ \\mathcal{L}\\left(\\boldsymbol{\\theta};\\boldsymbol{x}\\right) \\\\\n",
    "& = \\underset{\\boldsymbol{\\theta}}{\\arg\\min}\\ -l\\left(\\boldsymbol{\\theta};\\boldsymbol{x}\\right) \\\\\n",
    "& = \\underset{\\boldsymbol{\\theta}}{\\arg\\min}\\ -\\log\\left(p_{\\boldsymbol{X}}\\left(\\boldsymbol{x}\\ ;\\boldsymbol{\\theta}\\right)\\right)\n",
    "\\end{align*}\n",
    "$$"
   ]
  },
  {
   "cell_type": "code",
   "execution_count": 1,
   "metadata": {
    "ExecuteTime": {
     "end_time": "2019-03-27T09:27:39.167324Z",
     "start_time": "2019-03-27T09:27:39.155385Z"
    }
   },
   "outputs": [
    {
     "data": {
      "text/html": [
       "<link rel=\"stylesheet\" href=\"../css/style.css\"> <!--Setting styles - You can simply ignore this line-->\n"
      ],
      "text/plain": [
       "<IPython.core.display.HTML object>"
      ]
     },
     "metadata": {},
     "output_type": "display_data"
    }
   ],
   "source": [
    "%%html\n",
    "<link rel=\"stylesheet\" href=\"../css/style.css\"> <!--Setting styles - You can simply ignore this line-->"
   ]
  }
 ],
 "metadata": {
  "kernelspec": {
   "display_name": "Python 3",
   "language": "python",
   "name": "python3"
  },
  "language_info": {
   "codemirror_mode": {
    "name": "ipython",
    "version": 3
   },
   "file_extension": ".py",
   "mimetype": "text/x-python",
   "name": "python",
   "nbconvert_exporter": "python",
   "pygments_lexer": "ipython3",
   "version": "3.5.2"
  },
  "varInspector": {
   "cols": {
    "lenName": 16,
    "lenType": 16,
    "lenVar": 40
   },
   "kernels_config": {
    "python": {
     "delete_cmd_postfix": "",
     "delete_cmd_prefix": "del ",
     "library": "var_list.py",
     "varRefreshCmd": "print(var_dic_list())"
    },
    "r": {
     "delete_cmd_postfix": ") ",
     "delete_cmd_prefix": "rm(",
     "library": "var_list.r",
     "varRefreshCmd": "cat(var_dic_list()) "
    }
   },
   "types_to_exclude": [
    "module",
    "function",
    "builtin_function_or_method",
    "instance",
    "_Feature"
   ],
   "window_display": false
  }
 },
 "nbformat": 4,
 "nbformat_minor": 2
}
